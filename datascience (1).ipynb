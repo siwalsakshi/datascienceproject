{
 "cells": [
  {
   "cell_type": "code",
   "execution_count": null,
   "id": "9855aeb4-d4c3-460b-b4ea-ee69a5acb9f2",
   "metadata": {},
   "outputs": [],
   "source": [
    "import pandas as pd\n",
    "\n",
    "exo_traindf = pd.read_csv('https://student-datasets-bucket.s3.ap-south-1.amazonaws.com/whitehat-ds-datasets/kepler-exoplanets-dataset/exoTrain.csv')\n",
    "exo_traindf.head()"
   ]
  },
  {
   "cell_type": "code",
   "execution_count": null,
   "id": "b73bf4c9-8818-4ad4-b5db-3efa9d1904a8",
   "metadata": {},
   "outputs": [],
   "source": [
    "exo_testdf = pd.read_csv('https://student-datasets-bucket.s3.ap-south-1.amazonaws.com/whitehat-ds-datasets/kepler-exoplanets-dataset/exoTest.csv')\n",
    "exo_testdf.head()"
   ]
  },
  {
   "cell_type": "code",
   "execution_count": null,
   "id": "8619ff32-0351-4c55-8685-60874cffac7a",
   "metadata": {},
   "outputs": [],
   "source": [
    "exo_traindf['LABEL'].value_counts()"
   ]
  },
  {
   "cell_type": "code",
   "execution_count": null,
   "id": "5c8302c1-90e3-4817-8e68-ddbca54dcfb2",
   "metadata": {},
   "outputs": [],
   "source": [
    "exo_testdf['LABEL'].value_counts()"
   ]
  },
  {
   "cell_type": "code",
   "execution_count": null,
   "id": "a54498a1-da8a-4aec-b812-7139401cb1d8",
   "metadata": {},
   "outputs": [],
   "source": [
    "print(exo_traindf.shape)\n",
    "print(exo_testdf.shape)"
   ]
  },
  {
   "cell_type": "code",
   "execution_count": null,
   "id": "ccfa51d1-e913-4907-aa5c-3c36bfe2f596",
   "metadata": {},
   "outputs": [],
   "source": [
    "\n",
    "exo_traindf.isnull()"
   ]
  },
  {
   "cell_type": "code",
   "execution_count": null,
   "id": "cb58d276-d782-4215-b833-f232706e27d0",
   "metadata": {},
   "outputs": [],
   "source": [
    "exo_traindf.isnull().sum()"
   ]
  },
  {
   "cell_type": "code",
   "execution_count": null,
   "id": "ac22f7e2-cf02-4bfb-bd37-13677f7efb4c",
   "metadata": {},
   "outputs": [],
   "source": [
    "# obtaining a list of columns in the dataset\n",
    "exo_traindf.columns"
   ]
  },
  {
   "cell_type": "code",
   "execution_count": null,
   "id": "2c91af9e-863a-4608-b34b-b75a88cf712c",
   "metadata": {},
   "outputs": [],
   "source": [
    "# fetching values of a column\n",
    "exo_traindf['LABEL']"
   ]
  },
  {
   "cell_type": "code",
   "execution_count": null,
   "id": "d6c8866d-cb3e-4bc3-ba79-dac39e57076c",
   "metadata": {},
   "outputs": [],
   "source": [
    "# counting the missing values\n",
    "num_missing_values = 0\n",
    "\n",
    "for i in exo_traindf.columns:\n",
    "    for j in exo_traindf[i].isnull():\n",
    "        if j==True:\n",
    "            num_missing_values += 1\n",
    "\n",
    "print(\"Total missing values in the training dataset =\", num_missing_values)"
   ]
  },
  {
   "cell_type": "code",
   "execution_count": null,
   "id": "6b995e2e-f7b2-40cd-bfe0-d77155da8ace",
   "metadata": {},
   "outputs": [],
   "source": [
    "# creating pandas series for first and last two stars of the dataset\n",
    "star0 = exo_traindf.iloc[0, :]\n",
    "star1 = exo_traindf.iloc[1, :]\n",
    "star5085 = exo_traindf.iloc[5085, :]\n",
    "star5086 = exo_traindf.iloc[5086, :]"
   ]
  },
  {
   "cell_type": "code",
   "execution_count": null,
   "id": "09f49a65-e4d0-44b2-a6d7-9c3d8b35d9cc",
   "metadata": {},
   "outputs": [],
   "source": [
    "import matplotlib.pyplot as plt\n",
    "import seaborn as sns\n",
    "import numpy as np\n",
    "\n",
    "plt.figure(figsize=(16,4))\n",
    "x_values_star0 = np.arange(1,3198)\n",
    "y_values_star0 = star0[1:] # we ignore LABEL column as it's not a flux value\n",
    "\n",
    "sns.scatterplot(x=x_values_star0, y=y_values_star0)\n",
    "plt.show()"
   ]
  },
  {
   "cell_type": "code",
   "execution_count": null,
   "id": "deaa6173-1ea8-4024-b814-170ca9006f69",
   "metadata": {},
   "outputs": [],
   "source": [
    "plt.figure(figsize=(16,4))\n",
    "x_values_star0 = np.arange(1,3198)\n",
    "y_values_star0 = star0[1:] # we ignore LABEL column as it's not a flux value\n",
    "\n",
    "sns.lineplot(x=x_values_star0, y=y_values_star0)\n",
    "plt.show()"
   ]
  },
  {
   "cell_type": "code",
   "execution_count": null,
   "id": "a5ec0957-e8ad-4066-8b7c-aefac21e53f1",
   "metadata": {},
   "outputs": [],
   "source": [
    "plt.figure(figsize=(16,4))\n",
    "x_values_star1 = np.arange(1,3198)\n",
    "y_values_star1 = star1[1:]\n",
    "\n",
    "sns.scatterplot(x=x_values_star1, y=y_values_star1)\n",
    "plt.show()"
   ]
  },
  {
   "cell_type": "code",
   "execution_count": null,
   "id": "621359c6-1207-4cff-9d89-cc563058a088",
   "metadata": {},
   "outputs": [],
   "source": [
    "plt.figure(figsize=(16,4))\n",
    "sns.lineplot(x= x_values_star1,y= y_values_star1)\n",
    "plt.show()"
   ]
  },
  {
   "cell_type": "code",
   "execution_count": null,
   "id": "7397db38-4908-4366-a0f8-3f4fad8daaf7",
   "metadata": {},
   "outputs": [],
   "source": [
    "plt.figure(figsize=(16,4))\n",
    "x_values_star5085 = np.arange(1,3198)\n",
    "y_values_star5085 = star5085[1:]\n",
    "\n",
    "sns.scatterplot(x=x_values_star5085, y=y_values_star5085)\n",
    "plt.show()"
   ]
  },
  {
   "cell_type": "code",
   "execution_count": null,
   "id": "d101ec15-b6c8-4bcb-9d04-5a1a73302284",
   "metadata": {},
   "outputs": [],
   "source": [
    "plt.figure(figsize=(16,4))\n",
    "x_values_star5085 = np.arange(1,3198)\n",
    "y_values_star5085 = star5085[1:]\n",
    "\n",
    "sns.lineplot(x=x_values_star5085, y=y_values_star5085)\n",
    "plt.show()"
   ]
  },
  {
   "cell_type": "code",
   "execution_count": null,
   "id": "a0ff109f-8f29-4386-80fe-114bac1628ae",
   "metadata": {},
   "outputs": [],
   "source": [
    "plt.figure(figsize=(16,4))\n",
    "x_values_star5086 = np.arange(1,3198)\n",
    "y_values_star5086 = star5086[1:]\n",
    "\n",
    "sns.scatterplot(x=x_values_star5086, y=y_values_star5086)\n",
    "plt.show()"
   ]
  },
  {
   "cell_type": "code",
   "execution_count": null,
   "id": "b1407926-c724-4c0c-b3d5-7815ceb572f1",
   "metadata": {},
   "outputs": [],
   "source": [
    "plt.figure(figsize=(16,4))\n",
    "x_values_star5086 = np.arange(1,3198)\n",
    "y_values_star5086 = star5086[1:]\n",
    "\n",
    "sns.lineplot(x=x_values_star5086, y=y_values_star5086)\n",
    "plt.show()"
   ]
  },
  {
   "cell_type": "code",
   "execution_count": null,
   "id": "5b936bff-50f4-4695-b5df-80e441569dc7",
   "metadata": {},
   "outputs": [],
   "source": [
    "exo_testdf['LABEL'].value_counts()"
   ]
  },
  {
   "cell_type": "code",
   "execution_count": null,
   "id": "78f66c96-0fec-4ea6-90ef-72020bf4562e",
   "metadata": {},
   "outputs": [],
   "source": [
    "from sklearn.ensemble import RandomForestClassifier\n",
    "\n",
    "# separating the feature variables (flux values) and target variable (Label)\n",
    "feat_traindf = exo_traindf.iloc[:, 1:]\n",
    "target_traindf = exo_traindf.iloc[:, 0]\n",
    "\n",
    "# fitting the model with feature and target variables\n",
    "model = RandomForestClassifier(n_jobs=-1, n_estimators=50)\n",
    "model.fit(feat_traindf, target_traindf)\n",
    "model.score(feat_traindf, target_traindf)"
   ]
  },
  {
   "cell_type": "code",
   "execution_count": null,
   "id": "92d8500c-ece0-45d8-a380-7c4efc6afd97",
   "metadata": {},
   "outputs": [],
   "source": [
    "feat_testdf = exo_testdf.iloc[:, 1:]\n",
    "target_testdf = exo_testdf.iloc[:, 0]\n",
    "\n",
    "# calling the predict() function to make predictions on the test dataset\n",
    "predicted = model.predict(feat_testdf)\n",
    "print(predicted)"
   ]
  },
  {
   "cell_type": "code",
   "execution_count": null,
   "id": "a1481f48-9622-4eba-af33-49e78c052bf1",
   "metadata": {},
   "outputs": [],
   "source": [
    "predicted_series = pd.Series(predicted)\n",
    "predicted_series.value_counts()"
   ]
  },
  {
   "cell_type": "code",
   "execution_count": null,
   "id": "27024613-898c-49ec-a18d-70caa65199d1",
   "metadata": {},
   "outputs": [],
   "source": [
    "from sklearn.metrics import confusion_matrix, classification_report\n",
    "\n",
    "confusion_matrix(target_testdf, predicted)"
   ]
  },
  {
   "cell_type": "code",
   "execution_count": null,
   "id": "9c508172-04b7-44be-aa6a-ee39bea991d4",
   "metadata": {},
   "outputs": [],
   "source": [
    "print(classification_report(target_testdf, predicted))"
   ]
  },
  {
   "cell_type": "code",
   "execution_count": null,
   "id": "9ed05791-e6e3-4fb3-a115-3925c52b0266",
   "metadata": {},
   "outputs": [],
   "source": [
    "exo_traindf.describe()"
   ]
  },
  {
   "cell_type": "code",
   "execution_count": null,
   "id": "4778af06-4b64-4264-82c8-3c9dcbf07a09",
   "metadata": {},
   "outputs": [],
   "source": [
    "def mean_normalise(series):\n",
    "    # vectorised operation\n",
    "    norm = (series-series.mean()) / (series.max()-series.min())\n",
    "    return norm"
   ]
  },
  {
   "cell_type": "code",
   "execution_count": null,
   "id": "22ca6983-4e15-4159-ab97-bb6ef908b87f",
   "metadata": {},
   "outputs": [],
   "source": [
    "# creating a dataframe with normalised flux values, leaving the LABEL column \n",
    "# we apply the function mean_normalise(), horizontally keeping the axis=1\n",
    "norm_traindf = exo_traindf.iloc[:, 1:].apply(mean_normalise, axis=1)\n",
    "# inserting the LABEL column in the norm_traindf \n",
    "norm_traindf.insert(loc=0, column='LABEL', value= exo_traindf['LABEL'])\n",
    "norm_traindf.head()"
   ]
  },
  {
   "cell_type": "code",
   "execution_count": null,
   "id": "fa4aeee3-3eaa-4546-a5f0-ac604ca47e1d",
   "metadata": {},
   "outputs": [],
   "source": [
    "norm_testdf = exo_testdf.iloc[:, 1:].apply(mean_normalise, axis=1)\n",
    "norm_testdf.insert(loc=0, column='LABEL', value=exo_testdf['LABEL'])\n",
    "norm_testdf.head()"
   ]
  },
  {
   "cell_type": "code",
   "execution_count": null,
   "id": "440ab628-a811-4038-becd-1a3c32de2971",
   "metadata": {},
   "outputs": [],
   "source": [
    "# taking the transpose of the dataframe\n",
    "exo_traindf.T"
   ]
  },
  {
   "cell_type": "code",
   "execution_count": null,
   "id": "f5e9d1dd-2d90-42f6-96c6-37bfabdfd021",
   "metadata": {},
   "outputs": [],
   "source": [
    "# we applied abs() function because the transformed values sometimes turn out to be complex numbers\n",
    "fft_star0 = np.abs(np.fft.fft(star0))\n",
    "\n",
    "# frequency array will be same for all the stars because it depends on the length of series (all stars have same array length)\n",
    "frequency = np.fft.fftfreq(len(star0))\n",
    "\n",
    "plt.figure(figsize=(16,4))\n",
    "x_value = frequency\n",
    "y_value = fft_star0\n",
    "plt.plot(x_value, y_value)\n",
    "plt.show()\n"
   ]
  },
  {
   "cell_type": "code",
   "execution_count": null,
   "id": "d717f99e-5459-4a63-80ea-a471e320c0a3",
   "metadata": {},
   "outputs": [],
   "source": [
    "def fft_func(series):\n",
    "    fft_star = np.fft.fft(series, n=len(series))\n",
    "    return np.abs(fft_star)"
   ]
  },
  {
   "cell_type": "code",
   "execution_count": null,
   "id": "1d85864a-536e-4f9b-a778-7e245be4129b",
   "metadata": {},
   "outputs": [],
   "source": [
    "traindf_T = norm_traindf.iloc[:, 1:].T\n",
    "fft_traindf_T = traindf_T.apply(fft_func, axis = 0)\n",
    "# After transforming the 'FLUX' values, we again take the transpose.\n",
    "fft_train = fft_traindf_T.T\n",
    "fft_train.head()"
   ]
  },
  {
   "cell_type": "code",
   "execution_count": null,
   "id": "3af1f7ec-59c9-4acc-adce-d3eb782725bd",
   "metadata": {},
   "outputs": [],
   "source": [
    "# applying fft on test dataset\n",
    "testdf_T = norm_testdf.iloc[:, 1:].T\n",
    "fft_testdf_T = testdf_T.apply(fft_func, axis = 0)\n",
    "# After transforming the 'FLUX' values, we again take the transpose.\n",
    "fft_test = fft_testdf_T.T\n",
    "fft_train.head()"
   ]
  },
  {
   "cell_type": "code",
   "execution_count": null,
   "id": "5cd2d18c-92f3-4db5-9f14-ca32d8e86648",
   "metadata": {},
   "outputs": [],
   "source": [
    "from imblearn.over_sampling import SMOTE\n",
    "\n",
    "train = norm_traindf['LABEL']\n",
    "test = norm_testdf['LABEL']\n",
    "\n",
    "# sampling_strategy=1 implies that number of samples having label 1 and 2 should be equal\n",
    "smote = SMOTE(sampling_strategy=1)\n",
    "x_fft_train, y_fft_train = smote.fit_resample(fft_train,train)\n",
    "\n",
    "print(x_fft_train.shape)\n",
    "print(y_fft_train.shape)"
   ]
  },
  {
   "cell_type": "code",
   "execution_count": null,
   "id": "db5e26fb-3f73-4be7-a70d-3279d3aa71af",
   "metadata": {},
   "outputs": [],
   "source": [
    "model = RandomForestClassifier(n_jobs=-1, n_estimators=50)\n",
    "model.fit(x_fft_train, y_fft_train)\n",
    "\n",
    "predicted = model.predict(fft_test)\n",
    "print(predicted)"
   ]
  },
  {
   "cell_type": "code",
   "execution_count": null,
   "id": "a66a4a4c-b882-464e-a01d-98011379d2c5",
   "metadata": {},
   "outputs": [],
   "source": [
    "import xgboost as xg\n",
    "model = xg.XGBClassifier()\n",
    "\n",
    "# replacing label values 1 with 0 and 2 with 1- to avoid error of invalid classes\n",
    "y_fft_train = y_fft_train.replace({1: 0, 2: 1}) \n",
    "model.fit(x_fft_train, y_fft_train)\n",
    "\n",
    "model_predict = model.predict(np.array(fft_test))\n",
    "print(model_predict)"
   ]
  },
  {
   "cell_type": "code",
   "execution_count": null,
   "id": "502c6b93-3931-4cac-838e-971eff23c07c",
   "metadata": {},
   "outputs": [],
   "source": [
    "confusion_matrix(test,model_predict)"
   ]
  },
  {
   "cell_type": "code",
   "execution_count": null,
   "id": "5820c771-95e6-437c-b357-99143e198e32",
   "metadata": {},
   "outputs": [],
   "source": []
  }
 ],
 "metadata": {
  "kernelspec": {
   "display_name": "Python [conda env:base] *",
   "language": "python",
   "name": "conda-base-py"
  },
  "language_info": {
   "codemirror_mode": {
    "name": "ipython",
    "version": 3
   },
   "file_extension": ".py",
   "mimetype": "text/x-python",
   "name": "python",
   "nbconvert_exporter": "python",
   "pygments_lexer": "ipython3",
   "version": "3.12.7"
  }
 },
 "nbformat": 4,
 "nbformat_minor": 5
}
