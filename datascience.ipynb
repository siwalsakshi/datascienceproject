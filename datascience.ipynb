{
 "cells": [
  {
   "cell_type": "code",
   "execution_count": 137,
   "id": "9855aeb4-d4c3-460b-b4ea-ee69a5acb9f2",
   "metadata": {},
   "outputs": [
    {
     "data": {
      "text/html": [
       "<div>\n",
       "<style scoped>\n",
       "    .dataframe tbody tr th:only-of-type {\n",
       "        vertical-align: middle;\n",
       "    }\n",
       "\n",
       "    .dataframe tbody tr th {\n",
       "        vertical-align: top;\n",
       "    }\n",
       "\n",
       "    .dataframe thead th {\n",
       "        text-align: right;\n",
       "    }\n",
       "</style>\n",
       "<table border=\"1\" class=\"dataframe\">\n",
       "  <thead>\n",
       "    <tr style=\"text-align: right;\">\n",
       "      <th></th>\n",
       "      <th>LABEL</th>\n",
       "      <th>FLUX.1</th>\n",
       "      <th>FLUX.2</th>\n",
       "      <th>FLUX.3</th>\n",
       "      <th>FLUX.4</th>\n",
       "      <th>FLUX.5</th>\n",
       "      <th>FLUX.6</th>\n",
       "      <th>FLUX.7</th>\n",
       "      <th>FLUX.8</th>\n",
       "      <th>FLUX.9</th>\n",
       "      <th>...</th>\n",
       "      <th>FLUX.3188</th>\n",
       "      <th>FLUX.3189</th>\n",
       "      <th>FLUX.3190</th>\n",
       "      <th>FLUX.3191</th>\n",
       "      <th>FLUX.3192</th>\n",
       "      <th>FLUX.3193</th>\n",
       "      <th>FLUX.3194</th>\n",
       "      <th>FLUX.3195</th>\n",
       "      <th>FLUX.3196</th>\n",
       "      <th>FLUX.3197</th>\n",
       "    </tr>\n",
       "  </thead>\n",
       "  <tbody>\n",
       "    <tr>\n",
       "      <th>0</th>\n",
       "      <td>2</td>\n",
       "      <td>93.85</td>\n",
       "      <td>83.81</td>\n",
       "      <td>20.10</td>\n",
       "      <td>-26.98</td>\n",
       "      <td>-39.56</td>\n",
       "      <td>-124.71</td>\n",
       "      <td>-135.18</td>\n",
       "      <td>-96.27</td>\n",
       "      <td>-79.89</td>\n",
       "      <td>...</td>\n",
       "      <td>-78.07</td>\n",
       "      <td>-102.15</td>\n",
       "      <td>-102.15</td>\n",
       "      <td>25.13</td>\n",
       "      <td>48.57</td>\n",
       "      <td>92.54</td>\n",
       "      <td>39.32</td>\n",
       "      <td>61.42</td>\n",
       "      <td>5.08</td>\n",
       "      <td>-39.54</td>\n",
       "    </tr>\n",
       "    <tr>\n",
       "      <th>1</th>\n",
       "      <td>2</td>\n",
       "      <td>-38.88</td>\n",
       "      <td>-33.83</td>\n",
       "      <td>-58.54</td>\n",
       "      <td>-40.09</td>\n",
       "      <td>-79.31</td>\n",
       "      <td>-72.81</td>\n",
       "      <td>-86.55</td>\n",
       "      <td>-85.33</td>\n",
       "      <td>-83.97</td>\n",
       "      <td>...</td>\n",
       "      <td>-3.28</td>\n",
       "      <td>-32.21</td>\n",
       "      <td>-32.21</td>\n",
       "      <td>-24.89</td>\n",
       "      <td>-4.86</td>\n",
       "      <td>0.76</td>\n",
       "      <td>-11.70</td>\n",
       "      <td>6.46</td>\n",
       "      <td>16.00</td>\n",
       "      <td>19.93</td>\n",
       "    </tr>\n",
       "    <tr>\n",
       "      <th>2</th>\n",
       "      <td>2</td>\n",
       "      <td>532.64</td>\n",
       "      <td>535.92</td>\n",
       "      <td>513.73</td>\n",
       "      <td>496.92</td>\n",
       "      <td>456.45</td>\n",
       "      <td>466.00</td>\n",
       "      <td>464.50</td>\n",
       "      <td>486.39</td>\n",
       "      <td>436.56</td>\n",
       "      <td>...</td>\n",
       "      <td>-71.69</td>\n",
       "      <td>13.31</td>\n",
       "      <td>13.31</td>\n",
       "      <td>-29.89</td>\n",
       "      <td>-20.88</td>\n",
       "      <td>5.06</td>\n",
       "      <td>-11.80</td>\n",
       "      <td>-28.91</td>\n",
       "      <td>-70.02</td>\n",
       "      <td>-96.67</td>\n",
       "    </tr>\n",
       "    <tr>\n",
       "      <th>3</th>\n",
       "      <td>2</td>\n",
       "      <td>326.52</td>\n",
       "      <td>347.39</td>\n",
       "      <td>302.35</td>\n",
       "      <td>298.13</td>\n",
       "      <td>317.74</td>\n",
       "      <td>312.70</td>\n",
       "      <td>322.33</td>\n",
       "      <td>311.31</td>\n",
       "      <td>312.42</td>\n",
       "      <td>...</td>\n",
       "      <td>5.71</td>\n",
       "      <td>-3.73</td>\n",
       "      <td>-3.73</td>\n",
       "      <td>30.05</td>\n",
       "      <td>20.03</td>\n",
       "      <td>-12.67</td>\n",
       "      <td>-8.77</td>\n",
       "      <td>-17.31</td>\n",
       "      <td>-17.35</td>\n",
       "      <td>13.98</td>\n",
       "    </tr>\n",
       "    <tr>\n",
       "      <th>4</th>\n",
       "      <td>2</td>\n",
       "      <td>-1107.21</td>\n",
       "      <td>-1112.59</td>\n",
       "      <td>-1118.95</td>\n",
       "      <td>-1095.10</td>\n",
       "      <td>-1057.55</td>\n",
       "      <td>-1034.48</td>\n",
       "      <td>-998.34</td>\n",
       "      <td>-1022.71</td>\n",
       "      <td>-989.57</td>\n",
       "      <td>...</td>\n",
       "      <td>-594.37</td>\n",
       "      <td>-401.66</td>\n",
       "      <td>-401.66</td>\n",
       "      <td>-357.24</td>\n",
       "      <td>-443.76</td>\n",
       "      <td>-438.54</td>\n",
       "      <td>-399.71</td>\n",
       "      <td>-384.65</td>\n",
       "      <td>-411.79</td>\n",
       "      <td>-510.54</td>\n",
       "    </tr>\n",
       "  </tbody>\n",
       "</table>\n",
       "<p>5 rows × 3198 columns</p>\n",
       "</div>"
      ],
      "text/plain": [
       "   LABEL   FLUX.1   FLUX.2   FLUX.3   FLUX.4   FLUX.5   FLUX.6  FLUX.7  \\\n",
       "0      2    93.85    83.81    20.10   -26.98   -39.56  -124.71 -135.18   \n",
       "1      2   -38.88   -33.83   -58.54   -40.09   -79.31   -72.81  -86.55   \n",
       "2      2   532.64   535.92   513.73   496.92   456.45   466.00  464.50   \n",
       "3      2   326.52   347.39   302.35   298.13   317.74   312.70  322.33   \n",
       "4      2 -1107.21 -1112.59 -1118.95 -1095.10 -1057.55 -1034.48 -998.34   \n",
       "\n",
       "    FLUX.8  FLUX.9  ...  FLUX.3188  FLUX.3189  FLUX.3190  FLUX.3191  \\\n",
       "0   -96.27  -79.89  ...     -78.07    -102.15    -102.15      25.13   \n",
       "1   -85.33  -83.97  ...      -3.28     -32.21     -32.21     -24.89   \n",
       "2   486.39  436.56  ...     -71.69      13.31      13.31     -29.89   \n",
       "3   311.31  312.42  ...       5.71      -3.73      -3.73      30.05   \n",
       "4 -1022.71 -989.57  ...    -594.37    -401.66    -401.66    -357.24   \n",
       "\n",
       "   FLUX.3192  FLUX.3193  FLUX.3194  FLUX.3195  FLUX.3196  FLUX.3197  \n",
       "0      48.57      92.54      39.32      61.42       5.08     -39.54  \n",
       "1      -4.86       0.76     -11.70       6.46      16.00      19.93  \n",
       "2     -20.88       5.06     -11.80     -28.91     -70.02     -96.67  \n",
       "3      20.03     -12.67      -8.77     -17.31     -17.35      13.98  \n",
       "4    -443.76    -438.54    -399.71    -384.65    -411.79    -510.54  \n",
       "\n",
       "[5 rows x 3198 columns]"
      ]
     },
     "execution_count": 137,
     "metadata": {},
     "output_type": "execute_result"
    }
   ],
   "source": [
    "import pandas as pd\n",
    "\n",
    "exo_traindf = pd.read_csv('https://student-datasets-bucket.s3.ap-south-1.amazonaws.com/whitehat-ds-datasets/kepler-exoplanets-dataset/exoTrain.csv')\n",
    "exo_traindf.head()"
   ]
  },
  {
   "cell_type": "code",
   "execution_count": 138,
   "id": "8619ff32-0351-4c55-8685-60874cffac7a",
   "metadata": {},
   "outputs": [
    {
     "data": {
      "text/plain": [
       "LABEL\n",
       "1    5050\n",
       "2      37\n",
       "Name: count, dtype: int64"
      ]
     },
     "execution_count": 138,
     "metadata": {},
     "output_type": "execute_result"
    }
   ],
   "source": [
    "exo_traindf['LABEL'].value_counts()"
   ]
  },
  {
   "cell_type": "code",
   "execution_count": 139,
   "id": "5c8302c1-90e3-4817-8e68-ddbca54dcfb2",
   "metadata": {},
   "outputs": [
    {
     "ename": "NameError",
     "evalue": "name 'exo_testdf' is not defined",
     "output_type": "error",
     "traceback": [
      "\u001b[1;31m---------------------------------------------------------------------------\u001b[0m",
      "\u001b[1;31mNameError\u001b[0m                                 Traceback (most recent call last)",
      "Cell \u001b[1;32mIn[139], line 1\u001b[0m\n\u001b[1;32m----> 1\u001b[0m exo_testdf[\u001b[38;5;124m'\u001b[39m\u001b[38;5;124mLABEL\u001b[39m\u001b[38;5;124m'\u001b[39m]\u001b[38;5;241m.\u001b[39mvalue_counts()\n",
      "\u001b[1;31mNameError\u001b[0m: name 'exo_testdf' is not defined"
     ]
    }
   ],
   "source": [
    "exo_testdf['LABEL'].value_counts()"
   ]
  },
  {
   "cell_type": "code",
   "execution_count": null,
   "id": "15292a0f-6e30-46a6-82b9-01dd48be1c48",
   "metadata": {},
   "outputs": [],
   "source": [
    "exo_testdf = pd.read_csv('https://student-datasets-bucket.s3.ap-south-1.amazonaws.com/whitehat-ds-datasets/kepler-exoplanets-dataset/exoTest.csv')\n",
    "exo_testdf.head()"
   ]
  },
  {
   "cell_type": "code",
   "execution_count": null,
   "id": "a54498a1-da8a-4aec-b812-7139401cb1d8",
   "metadata": {},
   "outputs": [],
   "source": [
    "print(exo_traindf.shape)\n",
    "print(exo_testdf.shape)"
   ]
  },
  {
   "cell_type": "code",
   "execution_count": null,
   "id": "ccfa51d1-e913-4907-aa5c-3c36bfe2f596",
   "metadata": {},
   "outputs": [],
   "source": [
    "\n",
    "exo_traindf.isnull()"
   ]
  },
  {
   "cell_type": "code",
   "execution_count": null,
   "id": "cb58d276-d782-4215-b833-f232706e27d0",
   "metadata": {},
   "outputs": [],
   "source": [
    "exo_traindf.isnull().sum()"
   ]
  },
  {
   "cell_type": "code",
   "execution_count": null,
   "id": "ac22f7e2-cf02-4bfb-bd37-13677f7efb4c",
   "metadata": {},
   "outputs": [],
   "source": [
    "# obtaining a list of columns in the dataset\n",
    "exo_traindf.columns"
   ]
  },
  {
   "cell_type": "code",
   "execution_count": null,
   "id": "2c91af9e-863a-4608-b34b-b75a88cf712c",
   "metadata": {},
   "outputs": [],
   "source": [
    "# fetching values of a column\n",
    "exo_traindf['LABEL']"
   ]
  },
  {
   "cell_type": "code",
   "execution_count": null,
   "id": "d6c8866d-cb3e-4bc3-ba79-dac39e57076c",
   "metadata": {},
   "outputs": [],
   "source": [
    "# counting the missing values\n",
    "num_missing_values = 0\n",
    "\n",
    "for i in exo_traindf.columns:\n",
    "    for j in exo_traindf[i].isnull():\n",
    "        if j==True:\n",
    "            num_missing_values += 1\n",
    "\n",
    "print(\"Total missing values in the training dataset =\", num_missing_values)"
   ]
  },
  {
   "cell_type": "code",
   "execution_count": null,
   "id": "6b995e2e-f7b2-40cd-bfe0-d77155da8ace",
   "metadata": {},
   "outputs": [],
   "source": [
    "# creating pandas series for first and last two stars of the dataset\n",
    "star0 = exo_traindf.iloc[0, :]\n",
    "star1 = exo_traindf.iloc[1, :]\n",
    "star5085 = exo_traindf.iloc[5085, :]\n",
    "star5086 = exo_traindf.iloc[5086, :]"
   ]
  },
  {
   "cell_type": "code",
   "execution_count": null,
   "id": "09f49a65-e4d0-44b2-a6d7-9c3d8b35d9cc",
   "metadata": {},
   "outputs": [],
   "source": [
    "import matplotlib.pyplot as plt\n",
    "import seaborn as sns\n",
    "import numpy as np\n",
    "\n",
    "plt.figure(figsize=(16,4))\n",
    "x_values_star0 = np.arange(1,3198)\n",
    "y_values_star0 = star0[1:] # we ignore LABEL column as it's not a flux value\n",
    "\n",
    "sns.scatterplot(x=x_values_star0, y=y_values_star0)\n",
    "plt.show()"
   ]
  },
  {
   "cell_type": "code",
   "execution_count": null,
   "id": "deaa6173-1ea8-4024-b814-170ca9006f69",
   "metadata": {},
   "outputs": [],
   "source": [
    "plt.figure(figsize=(16,4))\n",
    "x_values_star0 = np.arange(1,3198)\n",
    "y_values_star0 = star0[1:] # we ignore LABEL column as it's not a flux value\n",
    "\n",
    "sns.lineplot(x=x_values_star0, y=y_values_star0)\n",
    "plt.show()"
   ]
  },
  {
   "cell_type": "code",
   "execution_count": null,
   "id": "a5ec0957-e8ad-4066-8b7c-aefac21e53f1",
   "metadata": {},
   "outputs": [],
   "source": [
    "plt.figure(figsize=(16,4))\n",
    "x_values_star1 = np.arange(1,3198)\n",
    "y_values_star1 = star1[1:]\n",
    "\n",
    "sns.scatterplot(x=x_values_star1, y=y_values_star1)\n",
    "plt.show()"
   ]
  },
  {
   "cell_type": "code",
   "execution_count": null,
   "id": "621359c6-1207-4cff-9d89-cc563058a088",
   "metadata": {},
   "outputs": [],
   "source": [
    "plt.figure(figsize=(16,4))\n",
    "sns.lineplot(x= x_values_star1,y= y_values_star1)\n",
    "plt.show()"
   ]
  },
  {
   "cell_type": "code",
   "execution_count": null,
   "id": "7397db38-4908-4366-a0f8-3f4fad8daaf7",
   "metadata": {},
   "outputs": [],
   "source": [
    "plt.figure(figsize=(16,4))\n",
    "x_values_star5085 = np.arange(1,3198)\n",
    "y_values_star5085 = star5085[1:]\n",
    "\n",
    "sns.scatterplot(x=x_values_star5085, y=y_values_star5085)\n",
    "plt.show()"
   ]
  },
  {
   "cell_type": "code",
   "execution_count": null,
   "id": "d101ec15-b6c8-4bcb-9d04-5a1a73302284",
   "metadata": {},
   "outputs": [],
   "source": [
    "plt.figure(figsize=(16,4))\n",
    "x_values_star5085 = np.arange(1,3198)\n",
    "y_values_star5085 = star5085[1:]\n",
    "\n",
    "sns.lineplot(x=x_values_star5085, y=y_values_star5085)\n",
    "plt.show()"
   ]
  },
  {
   "cell_type": "code",
   "execution_count": null,
   "id": "a0ff109f-8f29-4386-80fe-114bac1628ae",
   "metadata": {},
   "outputs": [],
   "source": [
    "plt.figure(figsize=(16,4))\n",
    "x_values_star5086 = np.arange(1,3198)\n",
    "y_values_star5086 = star5086[1:]\n",
    "\n",
    "sns.scatterplot(x=x_values_star5086, y=y_values_star5086)\n",
    "plt.show()"
   ]
  },
  {
   "cell_type": "code",
   "execution_count": null,
   "id": "b1407926-c724-4c0c-b3d5-7815ceb572f1",
   "metadata": {},
   "outputs": [],
   "source": [
    "plt.figure(figsize=(16,4))\n",
    "x_values_star5086 = np.arange(1,3198)\n",
    "y_values_star5086 = star5086[1:]\n",
    "\n",
    "sns.lineplot(x=x_values_star5086, y=y_values_star5086)\n",
    "plt.show()"
   ]
  },
  {
   "cell_type": "code",
   "execution_count": null,
   "id": "5b936bff-50f4-4695-b5df-80e441569dc7",
   "metadata": {},
   "outputs": [],
   "source": [
    "exo_testdf['LABEL'].value_counts()"
   ]
  },
  {
   "cell_type": "code",
   "execution_count": null,
   "id": "78f66c96-0fec-4ea6-90ef-72020bf4562e",
   "metadata": {},
   "outputs": [],
   "source": [
    "from sklearn.ensemble import RandomForestClassifier\n",
    "\n",
    "# separating the feature variables (flux values) and target variable (Label)\n",
    "feat_traindf = exo_traindf.iloc[:, 1:]\n",
    "target_traindf = exo_traindf.iloc[:, 0]\n",
    "\n",
    "# fitting the model with feature and target variables\n",
    "model = RandomForestClassifier(n_jobs=-1, n_estimators=50)\n",
    "model.fit(feat_traindf, target_traindf)\n",
    "model.score(feat_traindf, target_traindf)"
   ]
  },
  {
   "cell_type": "code",
   "execution_count": null,
   "id": "92d8500c-ece0-45d8-a380-7c4efc6afd97",
   "metadata": {},
   "outputs": [],
   "source": [
    "feat_testdf = exo_testdf.iloc[:, 1:]\n",
    "target_testdf = exo_testdf.iloc[:, 0]\n",
    "\n",
    "# calling the predict() function to make predictions on the test dataset\n",
    "predicted = model.predict(feat_testdf)\n",
    "print(predicted)"
   ]
  },
  {
   "cell_type": "code",
   "execution_count": null,
   "id": "a1481f48-9622-4eba-af33-49e78c052bf1",
   "metadata": {},
   "outputs": [],
   "source": [
    "predicted_series = pd.Series(predicted)\n",
    "predicted_series.value_counts()"
   ]
  },
  {
   "cell_type": "code",
   "execution_count": null,
   "id": "27024613-898c-49ec-a18d-70caa65199d1",
   "metadata": {},
   "outputs": [],
   "source": [
    "from sklearn.metrics import confusion_matrix, classification_report\n",
    "\n",
    "confusion_matrix(target_testdf, predicted)"
   ]
  },
  {
   "cell_type": "code",
   "execution_count": null,
   "id": "9c508172-04b7-44be-aa6a-ee39bea991d4",
   "metadata": {},
   "outputs": [],
   "source": [
    "print(classification_report(target_testdf, predicted))"
   ]
  },
  {
   "cell_type": "code",
   "execution_count": null,
   "id": "9ed05791-e6e3-4fb3-a115-3925c52b0266",
   "metadata": {},
   "outputs": [],
   "source": [
    "exo_traindf.describe()"
   ]
  },
  {
   "cell_type": "code",
   "execution_count": null,
   "id": "4778af06-4b64-4264-82c8-3c9dcbf07a09",
   "metadata": {},
   "outputs": [],
   "source": [
    "def mean_normalise(series):\n",
    "    # vectorised operation\n",
    "    norm = (series-series.mean()) / (series.max()-series.min())\n",
    "    return norm"
   ]
  },
  {
   "cell_type": "code",
   "execution_count": null,
   "id": "22ca6983-4e15-4159-ab97-bb6ef908b87f",
   "metadata": {},
   "outputs": [],
   "source": [
    "# creating a dataframe with normalised flux values, leaving the LABEL column \n",
    "# we apply the function mean_normalise(), horizontally keeping the axis=1\n",
    "norm_traindf = exo_traindf.iloc[:, 1:].apply(mean_normalise, axis=1)\n",
    "# inserting the LABEL column in the norm_traindf \n",
    "norm_traindf.insert(loc=0, column='LABEL', value= exo_traindf['LABEL'])\n",
    "norm_traindf.head()"
   ]
  },
  {
   "cell_type": "code",
   "execution_count": null,
   "id": "fa4aeee3-3eaa-4546-a5f0-ac604ca47e1d",
   "metadata": {},
   "outputs": [],
   "source": [
    "norm_testdf = exo_testdf.iloc[:, 1:].apply(mean_normalise, axis=1)\n",
    "norm_testdf.insert(loc=0, column='LABEL', value=exo_testdf['LABEL'])\n",
    "norm_testdf.head()"
   ]
  },
  {
   "cell_type": "code",
   "execution_count": null,
   "id": "440ab628-a811-4038-becd-1a3c32de2971",
   "metadata": {},
   "outputs": [],
   "source": [
    "# taking the transpose of the dataframe\n",
    "exo_traindf.T"
   ]
  },
  {
   "cell_type": "code",
   "execution_count": null,
   "id": "f5e9d1dd-2d90-42f6-96c6-37bfabdfd021",
   "metadata": {},
   "outputs": [],
   "source": [
    "# we applied abs() function because the transformed values sometimes turn out to be complex numbers\n",
    "fft_star0 = np.abs(np.fft.fft(star0))\n",
    "\n",
    "# frequency array will be same for all the stars because it depends on the length of series (all stars have same array length)\n",
    "frequency = np.fft.fftfreq(len(star0))\n",
    "\n",
    "plt.figure(figsize=(16,4))\n",
    "x_value = frequency\n",
    "y_value = fft_star0\n",
    "plt.plot(x_value, y_value)\n",
    "plt.show()\n"
   ]
  },
  {
   "cell_type": "code",
   "execution_count": null,
   "id": "d717f99e-5459-4a63-80ea-a471e320c0a3",
   "metadata": {},
   "outputs": [],
   "source": [
    "def fft_func(series):\n",
    "    fft_star = np.fft.fft(series, n=len(series))\n",
    "    return np.abs(fft_star)"
   ]
  },
  {
   "cell_type": "code",
   "execution_count": null,
   "id": "1d85864a-536e-4f9b-a778-7e245be4129b",
   "metadata": {},
   "outputs": [],
   "source": [
    "traindf_T = norm_traindf.iloc[:, 1:].T\n",
    "fft_traindf_T = traindf_T.apply(fft_func, axis = 0)\n",
    "# After transforming the 'FLUX' values, we again take the transpose.\n",
    "fft_train = fft_traindf_T.T\n",
    "fft_train.head()"
   ]
  },
  {
   "cell_type": "code",
   "execution_count": null,
   "id": "3af1f7ec-59c9-4acc-adce-d3eb782725bd",
   "metadata": {},
   "outputs": [],
   "source": [
    "# applying fft on test dataset\n",
    "testdf_T = norm_testdf.iloc[:, 1:].T\n",
    "fft_testdf_T = testdf_T.apply(fft_func, axis = 0)\n",
    "# After transforming the 'FLUX' values, we again take the transpose.\n",
    "fft_test = fft_testdf_T.T\n",
    "fft_train.head()"
   ]
  },
  {
   "cell_type": "code",
   "execution_count": null,
   "id": "5cd2d18c-92f3-4db5-9f14-ca32d8e86648",
   "metadata": {},
   "outputs": [],
   "source": [
    "from imblearn.over_sampling import SMOTE\n",
    "\n",
    "train = norm_traindf['LABEL']\n",
    "test = norm_testdf['LABEL']\n",
    "\n",
    "# sampling_strategy=1 implies that number of samples having label 1 and 2 should be equal\n",
    "smote = SMOTE(sampling_strategy=1)\n",
    "x_fft_train, y_fft_train = smote.fit_resample(fft_train,train)\n",
    "\n",
    "print(x_fft_train.shape)\n",
    "print(y_fft_train.shape)"
   ]
  },
  {
   "cell_type": "code",
   "execution_count": null,
   "id": "db5e26fb-3f73-4be7-a70d-3279d3aa71af",
   "metadata": {},
   "outputs": [],
   "source": [
    "model = RandomForestClassifier(n_jobs=-1, n_estimators=50)\n",
    "model.fit(x_fft_train, y_fft_train)\n",
    "\n",
    "predicted = model.predict(fft_test)\n",
    "print(predicted)"
   ]
  },
  {
   "cell_type": "code",
   "execution_count": null,
   "id": "a66a4a4c-b882-464e-a01d-98011379d2c5",
   "metadata": {},
   "outputs": [],
   "source": [
    "import xgboost as xg\n",
    "model = xg.XGBClassifier()\n",
    "\n",
    "# replacing label values 1 with 0 and 2 with 1- to avoid error of invalid classes\n",
    "y_fft_train = y_fft_train.replace({1: 0, 2: 1}) \n",
    "model.fit(x_fft_train, y_fft_train)\n",
    "\n",
    "model_predict = model.predict(np.array(fft_test))\n",
    "print(model_predict)"
   ]
  },
  {
   "cell_type": "code",
   "execution_count": null,
   "id": "502c6b93-3931-4cac-838e-971eff23c07c",
   "metadata": {},
   "outputs": [],
   "source": [
    "confusion_matrix(test,model_predict)"
   ]
  },
  {
   "cell_type": "code",
   "execution_count": null,
   "id": "5820c771-95e6-437c-b357-99143e198e32",
   "metadata": {},
   "outputs": [],
   "source": []
  }
 ],
 "metadata": {
  "kernelspec": {
   "display_name": "Python [conda env:base] *",
   "language": "python",
   "name": "conda-base-py"
  },
  "language_info": {
   "codemirror_mode": {
    "name": "ipython",
    "version": 3
   },
   "file_extension": ".py",
   "mimetype": "text/x-python",
   "name": "python",
   "nbconvert_exporter": "python",
   "pygments_lexer": "ipython3",
   "version": "3.12.7"
  }
 },
 "nbformat": 4,
 "nbformat_minor": 5
}
